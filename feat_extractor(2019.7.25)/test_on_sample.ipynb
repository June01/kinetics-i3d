{
 "cells": [
  {
   "cell_type": "code",
   "execution_count": 1,
   "metadata": {},
   "outputs": [
    {
     "name": "stderr",
     "output_type": "stream",
     "text": [
      "WARNING: Logging before flag parsing goes to stderr.\n",
      "W0725 16:05:37.826516 139983842342528 deprecation_wrapper.py:119] From /usr/lib/python3.7/site-packages/sonnet/python/custom_getters/restore_initializer.py:27: The name tf.GraphKeys is deprecated. Please use tf.compat.v1.GraphKeys instead.\n",
      "\n",
      "W0725 16:05:38.805845 139983842342528 lazy_loader.py:50] \n",
      "The TensorFlow contrib module will not be included in TensorFlow 2.0.\n",
      "For more information, please see:\n",
      "  * https://github.com/tensorflow/community/blob/master/rfcs/20180907-contrib-sunset.md\n",
      "  * https://github.com/tensorflow/addons\n",
      "  * https://github.com/tensorflow/io (for I/O related ops)\n",
      "If you depend on functionality not listed there, please file an issue.\n",
      "\n"
     ]
    }
   ],
   "source": [
    "import tensorflow as tf\n",
    "import sonnet as snt\n",
    "\n",
    "from PIL import Image, ImageOps\n",
    "\n",
    "import numpy as np\n",
    "\n",
    "import os\n",
    "\n",
    "import i3d"
   ]
  },
  {
   "cell_type": "code",
   "execution_count": 4,
   "metadata": {},
   "outputs": [],
   "source": [
    "image_size = 224\n",
    "num_class = 20\n",
    "\n",
    "sample_path = {\n",
    "    'rgb': 'data/v_CricketShot_g04_c01_rgb.npy',\n",
    "    'flow': 'data/v_CricketShot_g04_c01_flow.npy',\n",
    "}\n",
    "\n",
    "checkpoints = {\n",
    "    'rgb': 'data/checkpoints/rgb_scratch/model.ckpt',\n",
    "    'flow': 'data/checkpoints/flow_scratch/model.ckpt',\n",
    "    'rgb_imagenet': 'data/checkpoints/rgb_imagenet/model.ckpt',\n",
    "    'flow_imagenet': 'data/checkpoints/flow_imagenet/model.ckpt',\n",
    "}\n",
    "\n",
    "def extract_feat(rgb_batch, flow_batch):\n",
    "    \n",
    "    rgb_input = tf.placeholder(tf.float32, shape=(1,None,image_size,image_size,3))\n",
    "    flow_input = tf.placeholder(tf.float32, shape=(1,None,image_size,image_size,2))\n",
    "    with tf.variable_scope('RGB'):\n",
    "        rgb_model = i3d.InceptionI3d(num_class+1, spatial_squeeze=True, final_endpoint='Mixed_5c')\n",
    "        rgb_mixed5c, _ = rgb_model(rgb_input, is_training=False, dropout_keep_prob=1.0)\n",
    "        rgb_feat = tf.nn.avg_pool3d(rgb_mixed5c, ksize=[1, 2, 7, 7, 1],\n",
    "                             strides=[1, 1, 1, 1, 1], padding=snt.VALID)\n",
    "\n",
    "    rgb_variable_map = {}\n",
    "    for variable in tf.global_variables():\n",
    "        if variable.name.split('/')[0] == 'RGB':\n",
    "            rgb_variable_map[variable.name.replace(':0', '')] = variable\n",
    "    rgb_saver = tf.train.Saver(var_list=rgb_variable_map, reshape=True)\n",
    "    \n",
    "    with tf.variable_scope('Flow'):\n",
    "        flow_model = i3d.InceptionI3d(num_class+1,spatial_squeeze=True, final_endpoint='Mixed_5c')\n",
    "        flow_mixed5c, _ = flow_model(flow_input, is_training=False, dropout_keep_prob=1.0)\n",
    "        flow_feat = tf.nn.avg_pool3d(flow_mixed5c, ksize=[1, 2, 7, 7, 1],\n",
    "                             strides=[1, 1, 1, 1, 1], padding=snt.VALID)\n",
    "        \n",
    "    flow_variable_map = {}\n",
    "    for variable in tf.global_variables():\n",
    "        if variable.name.split('/')[0] == 'Flow':\n",
    "            flow_variable_map[variable.name.replace(':0', '')] = variable\n",
    "    flow_saver = tf.train.Saver(var_list=flow_variable_map, reshape=True)\n",
    "    \n",
    "    with tf.Session() as sess:\n",
    "        feed_dict = {}\n",
    "        \n",
    "        rgb_saver.restore(sess, checkpoints['rgb_imagenet'])\n",
    "        flow_saver.restore(sess, checkpoints['flow_imagenet'])\n",
    "        \n",
    "        tf.logging.info('RGB checkpoint restored')\n",
    "        tf.logging.info('Flow checkpoint restored')\n",
    "       \n",
    "        rgb_arr = rgb_batch[np.newaxis, :]\n",
    "        rgb_arr = (rgb_arr/255.0)*2-1\n",
    "        flow_arr = flow_batch[np.newaxis, :]\n",
    "        flow_arr = (flow_arr/255.0)*2-1\n",
    "\n",
    "        feed_dict[rgb_input] = rgb_arr\n",
    "        feed_dict[flow_input] = flow_arr\n",
    "\n",
    "        rgb, flow = sess.run([rgb_feat, flow_feat], feed_dict=feed_dict)\n",
    "    \n",
    "    return rgb, flow\n"
   ]
  },
  {
   "cell_type": "code",
   "execution_count": 40,
   "metadata": {},
   "outputs": [
    {
     "name": "stdout",
     "output_type": "stream",
     "text": [
      "(80, 224, 224, 3)\n"
     ]
    }
   ],
   "source": [
    "import cv2\n",
    "cap = cv2.VideoCapture('data/v_CricketShot_g04_c01.avi')\n",
    "\n",
    "if cap.isOpened() == False:\n",
    "    print('Error opening video stream or file')\n",
    "\n",
    "frames=[]\n",
    "\n",
    "height=cap.get(cv2.CAP_PROP_FRAME_HEIGHT)\n",
    "width=cap.get(cv2.CAP_PROP_FRAME_WIDTH)\n",
    "\n",
    "min_ = min(height, width)\n",
    "ratio = float(256/float(min_))\n",
    "new_w = int(ratio*width)\n",
    "new_h = int(ratio*height)\n",
    "i=0\n",
    "while cap.isOpened():\n",
    "    \n",
    "    ret, frame = cap.read()\n",
    "#     name = str(i)+'.jpg'\n",
    "#     cv2.imwrite('data/frames/'+name, frame)\n",
    "    if ret == True:\n",
    "        # frames+=1\n",
    "        i=i+1\n",
    "#         frame = cv2.cvtColor(frame, cv2.COLOR_BGR2RGB)\n",
    "        frame = cv2.resize(frame, (new_w, new_h), interpolation=cv2.INTER_LINEAR)\n",
    "        frame = (frame/255.0)*2-1\n",
    "        frame = frame[int((new_h-224)/2):int((new_h+224)/2),int((new_w-224)/2):int((new_w+224)/2),:]\n",
    "        frames.append(frame)\n",
    "    else:\n",
    "        break\n",
    "print(np.array(frames).shape)\n",
    "cap.release()\n",
    "cv2.destroyAllWindows()"
   ]
  },
  {
   "cell_type": "code",
   "execution_count": 43,
   "metadata": {},
   "outputs": [
    {
     "name": "stdout",
     "output_type": "stream",
     "text": [
      "(80, 224, 224, 3)\n",
      "(80, 224, 224, 3) (1, 79, 224, 224, 3)\n",
      "66.80770606607665\n"
     ]
    }
   ],
   "source": [
    "import numpy as np\n",
    "a=np.load('data/v_CricketShot_g04_c01_rgb.npy')\n",
    "frames = np.array(frames)\n",
    "print(frames.shape)\n",
    "# frames = frames[0]\n",
    "print(frames.shape, a.shape)\n",
    "print(np.linalg.norm(a[0,0].flatten()-frames[0].flatten()))"
   ]
  },
  {
   "cell_type": "code",
   "execution_count": 26,
   "metadata": {},
   "outputs": [
    {
     "data": {
      "text/plain": [
       "array([ 0.62228775,  0.22845614, -0.07612872, -0.0310626 , -0.02398157,\n",
       "        0.14633   ,  0.5618305 ,  0.6487572 ,  0.125471  , -0.2573926 ,\n",
       "        0.03273392,  0.45883274,  0.6471859 ,  0.09479284, -0.08804142,\n",
       "       -0.00917238, -0.00297922, -0.01075757, -0.03898668, -0.04991221,\n",
       "       -0.05772483, -0.06553745, -0.0666666 , -0.06001365, -0.0654459 ,\n",
       "       -0.05780035, -0.06267869, -0.08355308, -0.10699093, -0.10231721,\n",
       "       -0.10269183, -0.11378253, -0.10339981, -0.10047007, -0.10047007,\n",
       "       -0.10675681, -0.1083132 , -0.1083132 , -0.11450839, -0.11615634,\n",
       "       -0.11002219, -0.1083132 , -0.11438632, -0.11615634, -0.11615634,\n",
       "       -0.1221379 , -0.12399948, -0.12399948, -0.11810946, -0.11817801,\n",
       "       -0.12268025, -0.1317985 , -0.1403166 , -0.14437139, -0.15080482,\n",
       "       -0.15294111, -0.15294111, -0.15294111, -0.15294111, -0.15294111,\n",
       "       -0.15294111, -0.15294111, -0.15294111, -0.15294111, -0.15294111,\n",
       "       -0.15294111, -0.15294111, -0.15294111, -0.16350031, -0.16862738,\n",
       "       -0.17384595, -0.17647052, -0.18162805, -0.18431365, -0.19450665,\n",
       "       -0.19999993, -0.19999993, -0.19999993, -0.20497435, -0.2061373 ,\n",
       "       -0.19683301, -0.18228716, -0.17479634, -0.17060626, -0.17176557,\n",
       "       -0.17852521, -0.18160754, -0.18322909, -0.18431365, -0.18127543,\n",
       "       -0.17615837, -0.1740396 , -0.16949242, -0.1616798 , -0.1448949 ,\n",
       "       -0.12437534, -0.11490476, -0.11372542, -0.11372542, -0.11372542,\n",
       "       -0.10942239, -0.10588229, -0.10588229, -0.10588229, -0.08771586,\n",
       "       -0.07180363, -0.07180363, -0.07180363, -0.06774473, -0.06396049,\n",
       "       -0.06396049, -0.06396049, -0.06653899, -0.06909752, -0.06909752,\n",
       "       -0.06909752, -0.06909752, -0.06909752, -0.06909752, -0.06909752,\n",
       "       -0.07775682, -0.0874899 , -0.0874899 , -0.0874899 , -0.0874899 ,\n",
       "       -0.0874899 , -0.0874899 , -0.0874899 , -0.09093839, -0.09533304,\n",
       "       -0.09533304, -0.09533304, -0.09533304, -0.09533304, -0.09533304,\n",
       "       -0.09533304, -0.0932343 , -0.09227479, -0.09641755, -0.09911317,\n",
       "       -0.10074526, -0.10074526, -0.09970284, -0.09803915, -0.09803915,\n",
       "       -0.10682821, -0.13126636, -0.15354139, -0.16349036, -0.16349036,\n",
       "       -0.16349036, -0.16528928, -0.16956449, -0.16864794, -0.16522932,\n",
       "       -0.15550482, -0.10347176, -0.05610728, -0.09199619, -0.1633907 ,\n",
       "       -0.19339603, -0.17460674, -0.17405963, -0.17100775, -0.17177081,\n",
       "       -0.16078424, -0.15849543, -0.15372026, -0.157875  , -0.16273224,\n",
       "       -0.16511774, -0.18000591, -0.19787353, -0.22361445, -0.23546183,\n",
       "       -0.24636382, -0.23908615, -0.22548246, -0.23263174, -0.23461741,\n",
       "       -0.22558552, -0.21385515, -0.20846432, -0.21170849, -0.2139467 ,\n",
       "       -0.20784307, -0.20784307, -0.20784307, -0.20784307, -0.20784307,\n",
       "       -0.20784307, -0.20784307, -0.20784307, -0.20784307, -0.20784307,\n",
       "       -0.20784307, -0.20784307, -0.20784307, -0.20784307, -0.20784307,\n",
       "       -0.20784307, -0.20784307, -0.20784307, -0.20784307, -0.20897222,\n",
       "       -0.2156862 , -0.2156862 , -0.2156862 , -0.2156862 , -0.2156862 ,\n",
       "       -0.2156862 , -0.2156862 , -0.2156862 , -0.2156862 , -0.2156862 ,\n",
       "       -0.2156862 , -0.21492326, -0.20784307, -0.20784307, -0.20784307,\n",
       "       -0.20784307, -0.20784307, -0.20784307, -0.20765352], dtype=float32)"
      ]
     },
     "execution_count": 26,
     "metadata": {},
     "output_type": "execute_result"
    }
   ],
   "source": [
    "a[0,0,:,0,0]"
   ]
  },
  {
   "cell_type": "code",
   "execution_count": 1,
   "metadata": {},
   "outputs": [
    {
     "name": "stdout",
     "output_type": "stream",
     "text": [
      "0\n"
     ]
    }
   ],
   "source": [
    "# Compare PIL and cv2\n",
    "import numpy as np\n",
    "import cv2\n",
    "from PIL import Image\n",
    "\n",
    "img_cv2BGR=cv2.imread('/home/june/mnt2/th14_feature_i3d/th14_raw/val_optical_flow_rgb/video_validation_0000684/img_00513.jpg')\n",
    "img_cv2RGB = cv2.cvtColor(img_cv2BGR, cv2.COLOR_BGR2RGB)\n",
    "\n",
    "img_pil = Image.open('/home/june/mnt2/th14_feature_i3d/th14_raw/val_optical_flow_rgb/video_validation_0000684/img_00513.jpg').convert('RGB')\n",
    "\n",
    "arr_cv2 = np.array(img_cv2RGB)\n",
    "arr_pil = np.array(img_pil)\n",
    "\n",
    "print(sum(arr_cv2.flatten()-arr_pil.flatten()))"
   ]
  },
  {
   "cell_type": "code",
   "execution_count": 32,
   "metadata": {},
   "outputs": [
    {
     "data": {
      "text/plain": [
       "(224, 198, 3)"
      ]
     },
     "execution_count": 32,
     "metadata": {},
     "output_type": "execute_result"
    }
   ],
   "source": [
    "import cv2\n",
    "def reshape_cv2(img, type):\n",
    "    width, height = img.shape[0:2]\n",
    "    min_ = min(height, width)\n",
    "    ratio = float(256/float(min_))\n",
    "    new_w = int(ratio*width)\n",
    "    new_h = int(ratio*height)\n",
    "    if type=='rgb':\n",
    "        frame = cv2.cvtColor(img, cv2.COLOR_BGR2RGB)\n",
    "    else:\n",
    "        frame = cv2.cvtColor(img, cv2.COLOR_BGR2GRAY)\n",
    "    frame = cv2.resize(frame, (new_w,new_h), interpolation=cv2.INTER_LINEAR)\n",
    "    frame = (frame/255.0)*2-1\n",
    "    frame = frame[(new_h-224)/2:(new_h+224)/2,(new_w-224)/2:(new_w+224)/2]\n",
    "    \n",
    "    return frame\n",
    "\n",
    "a=cv2.imread('/home/june/mnt2/th14_feature_i3d/code/data/frames/0.jpg')\n",
    "b=reshape_cv2(a, type='rgb')"
   ]
  },
  {
   "cell_type": "code",
   "execution_count": 30,
   "metadata": {},
   "outputs": [],
   "source": [
    "import numpy as np\n",
    "x=np.load('/home/june/code/kinetics-i3d/data/v_CricketShot_g04_c01_rgb.npy')\n",
    "x=x[0,0]"
   ]
  },
  {
   "cell_type": "code",
   "execution_count": 31,
   "metadata": {},
   "outputs": [
    {
     "ename": "ValueError",
     "evalue": "operands could not be broadcast together with shapes (150528,) (133056,) ",
     "output_type": "error",
     "traceback": [
      "\u001b[0;31m---------------------------------------------------------------------------\u001b[0m",
      "\u001b[0;31mValueError\u001b[0m                                Traceback (most recent call last)",
      "\u001b[0;32m<ipython-input-31-3bdfa118ecf2>\u001b[0m in \u001b[0;36m<module>\u001b[0;34m()\u001b[0m\n\u001b[0;32m----> 1\u001b[0;31m \u001b[0;32mprint\u001b[0m\u001b[0;34m(\u001b[0m\u001b[0msum\u001b[0m\u001b[0;34m(\u001b[0m\u001b[0mx\u001b[0m\u001b[0;34m.\u001b[0m\u001b[0mflatten\u001b[0m\u001b[0;34m(\u001b[0m\u001b[0;34m)\u001b[0m\u001b[0;34m-\u001b[0m\u001b[0mb\u001b[0m\u001b[0;34m.\u001b[0m\u001b[0mflatten\u001b[0m\u001b[0;34m(\u001b[0m\u001b[0;34m)\u001b[0m\u001b[0;34m)\u001b[0m \u001b[0;34m)\u001b[0m\u001b[0;34m\u001b[0m\u001b[0m\n\u001b[0m",
      "\u001b[0;31mValueError\u001b[0m: operands could not be broadcast together with shapes (150528,) (133056,) "
     ]
    }
   ],
   "source": [
    "print(sum(x.flatten()-b.flatten()) )"
   ]
  },
  {
   "cell_type": "code",
   "execution_count": null,
   "metadata": {},
   "outputs": [],
   "source": []
  }
 ],
 "metadata": {
  "kernelspec": {
   "display_name": "Python 3",
   "language": "python",
   "name": "python3"
  },
  "language_info": {
   "codemirror_mode": {
    "name": "ipython",
    "version": 3
   },
   "file_extension": ".py",
   "mimetype": "text/x-python",
   "name": "python",
   "nbconvert_exporter": "python",
   "pygments_lexer": "ipython3",
   "version": "3.7.3"
  }
 },
 "nbformat": 4,
 "nbformat_minor": 2
}
